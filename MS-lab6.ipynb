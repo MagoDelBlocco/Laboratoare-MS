{
 "cells": [
  {
   "cell_type": "markdown",
   "id": "8f8c5f27-9f00-4f49-89e5-ca25f28475e1",
   "metadata": {},
   "source": [
    "# Modeling and Simulation 6 - Statistical tests"
   ]
  },
  {
   "cell_type": "markdown",
   "id": "25db02a9-a135-4c10-aff5-5d7fefb18ae6",
   "metadata": {},
   "source": [
    "Statistical tests are crucial tools in analyzing data and making informed decisions based on evidence. We will explore the principles behind the Kolmogorov-Smirnov test and Fisher's Exact test, their applications, and how to perform these kind of tests using Python.\n",
    "\n",
    "The Kolmogorov-Smirnov test is a non-parametric test used to compare the distribution of a sample with a reference probability distribution or to compare two samples. It's particularly useful when assessing whether a sample comes from a particular distribution. Fisher's Exact test is a statistical significance test used to determine if there are non-random associations between two categorical variables. It's commonly employed in contingency table analysis, especially when dealing with small sample sizes. You will read more details about these tests below."
   ]
  },
  {
   "cell_type": "markdown",
   "id": "53d8e70d-b87a-48fd-8151-68dd7bb73afc",
   "metadata": {},
   "source": [
    "We are going to need NumPy and SciPy for this lab."
   ]
  },
  {
   "cell_type": "code",
   "execution_count": 44,
   "id": "333dbf10-afd5-40cd-8dab-d6b9e577f765",
   "metadata": {
    "tags": []
   },
   "outputs": [],
   "source": [
    "import numpy as np\n",
    "from scipy.stats import norm, kstest, fisher_exact"
   ]
  },
  {
   "cell_type": "markdown",
   "id": "22f75135-8b9b-4ca9-9d0b-36bd4b878326",
   "metadata": {},
   "source": [
    "## Checking the randomness of Python"
   ]
  },
  {
   "attachments": {
    "d7fefbcc-600c-4ac8-b499-b7926f064b9a.png": {
     "image/png": "[encoded data removed]"
    }
   },
   "cell_type": "markdown",
   "id": "7cc1cdce-b49b-48fb-8130-6694240da0ca",
   "metadata": {},
   "source": [
    "### The Kolmogorov-Smirnov test\n",
    "\n",
    "This [test](https://en.wikipedia.org/wiki/Kolmogorov%E2%80%93Smirnov_test) is a statistical test that can be used to check the uniformity of a set of random numbers. The test measures the maximum difference between the cumulative distribution function (CDF) of the observed data and the CDF of the expected uniform distribution. $CDF_X(x)$ is the probability that a _random variable_ X takes a value less than or equal to x.\n",
    "\n",
    "![image.png](attachment:d7fefbcc-600c-4ac8-b499-b7926f064b9a.png)\n",
    "\n",
    "This would be the graphical representation of the K-S test. The red line is the model, our expected CDF. The blue line is an empirical CDF, that being our sample. The biggest difference between the two data sets is the test statistic, represented by the black arrow.\n",
    "\n",
    "Let's start by defining the function for the Kolmogorov-Smirnov test."
   ]
  },
  {
   "cell_type": "code",
   "execution_count": 45,
   "id": "fe10c802-2e05-449e-aeb5-7a0244d4666c",
   "metadata": {
    "tags": []
   },
   "outputs": [],
   "source": [
    "def ks_statistic(sample):\n",
    "    # we'll need to arrange our data in a given order to make the test\n",
    "    sample = np.sort(sample)\n",
    "    n = len(sample)\n",
    "    \n",
    "    # we will consider our model CDF to be [0, 1) with n elements\n",
    "    # since we used a normal distribution\n",
    "    expected_cdf = np.random.rand(n)\n",
    "    \n",
    "    # we now compute our test statistic as the largest difference between the two sets\n",
    "    diff = np.abs(sample - expected_cdf)\n",
    "    statistic = np.max(diff)\n",
    "    \n",
    "    return statistic"
   ]
  },
  {
   "cell_type": "markdown",
   "id": "35cb5bff-78da-4d7c-8422-229efe06ce19",
   "metadata": {},
   "source": [
    "If we were to call this function on a sample of statistically significant size, we should get a number between 0 and 1. But we first need to define a few terms relevant to statistics.\n",
    "\n",
    "#### Null hypothesis\n",
    "\n",
    "The null hypothesis is a statement or assumption that is presumed to be true unless there is evidence to the contrary. In statistical hypothesis testing, the null hypothesis often represents the absence of an effect or relationship between variables.\n",
    "\n",
    "For example, suppose we want to test the hypothesis that a new drug is effective in reducing blood pressure. The null hypothesis would be that the drug has no effect on blood pressure, and any observed difference in blood pressure between the treatment and control groups is due to chance. The alternative hypothesis, in this case, would be that the drug does have a significant effect on blood pressure.\n",
    "\n",
    "The purpose of hypothesis testing is to determine whether the evidence in the sample supports the null hypothesis or whether it is strong enough to reject it in favor of the alternative hypothesis. The null hypothesis is typically the default assumption in hypothesis testing, and we use statistical methods to calculate the probability of obtaining the observed data or more extreme data under the null hypothesis. If this probability is sufficiently low (i.e., below a predetermined significance level), we reject the null hypothesis and conclude that the alternative hypothesis is more likely.\n",
    "\n",
    "#### Significance level (α)\n",
    "The probability of rejecting the null hypothesis when it is actually true. This is usually a parameter that we give to the test (a common value is 0.05)\n",
    "\n",
    "#### Rejection Region\n",
    "In hypothesis testing, the rejection region of a statistical test is the range of test statistic values that would lead us to reject the null hypothesis in favor of the alternative hypothesis. The rejection region is determined based on the significance level (alpha) chosen for the test, which represents the maximum probability of rejecting the null hypothesis when it is true.\n",
    "\n",
    "#### p-value\n",
    "In statistical hypothesis testing, the p-value is the probability of obtaining a test statistic at least as extreme as the observed value, assuming that the null hypothesis is true. It is used to determine the statistical significance of the results obtained from a hypothesis test.\n",
    "\n",
    "#### Critical value\n",
    "It represents the maximum value of a test statistic beyond which the null hypothesis is rejected."
   ]
  },
  {
   "cell_type": "markdown",
   "id": "87c14c5b-4f0d-4d4b-ae45-a6f5c84651dc",
   "metadata": {},
   "source": [
    "### Back to our task\n",
    "In the Kolmogorov-Smirnov test *the null hypothesis is that both the sample and the expected CDF are identical*.\n"
   ]
  },
  {
   "cell_type": "markdown",
   "id": "8c9ad1e8-b81b-4e43-a2ce-7bb88b5047e3",
   "metadata": {},
   "source": [
    "In order to qualitatively measure the result of the KS test, we will compute two additional metrics: the p-value and the critical value of the test.\n",
    "\n",
    "In our case, the p-value will be the probability of obtaining a greater than or equal difference to the one computed, while the critical value will be the difference beyond which we can conclude that the two sets are different."
   ]
  },
  {
   "attachments": {},
   "cell_type": "markdown",
   "id": "52695210-e39f-47c6-ba0d-be5560145a8c",
   "metadata": {},
   "source": [
    "We will compute the critical value using the formula \n",
    "$c(\\alpha) / \\sqrt{n}$. \n",
    "Typically the values $c(\\alpha)$ values are taken from a pre-computed table, depending on the chosen alpha and n. For $\\alpha = 0.05$, we can approximate it as 1.36.\n",
    "\n",
    "The p-value can be calculated using the formula \n",
    "$$1 - CDF(statistic)$$"
   ]
  },
  {
   "cell_type": "code",
   "execution_count": 46,
   "id": "704570d8-0830-418d-ae0c-02a3809cfe08",
   "metadata": {
    "tags": []
   },
   "outputs": [],
   "source": [
    "def ks_test(sample):\n",
    "    statistic = ks_statistic(sample)\n",
    "    n = len(sample)\n",
    "    \n",
    "    # TODO\n",
    "    critical_value = ...\n",
    "    # hint: norm.cdf\n",
    "    p_value = ...\n",
    "    \n",
    "    return statistic, critical_value, p_value"
   ]
  },
  {
   "cell_type": "code",
   "execution_count": 47,
   "id": "d886f0af-b7c9-46f2-930c-fdf86a755d59",
   "metadata": {
    "tags": []
   },
   "outputs": [
    {
     "name": "stdout",
     "output_type": "stream",
     "text": [
      "KS test statistic: 0.9731\n",
      "p-value: 0.4828\n",
      "Critical value: 0.0430\n"
     ]
    }
   ],
   "source": [
    "import time\n",
    "\n",
    "np.random.seed(int(time.time()))\n",
    "\n",
    "# we take 1000 random numbers given by a normal distribution (Gaussian)\n",
    "numbers = np.random.normal(size=1000)\n",
    "\n",
    "# we create our empirical CDF using scipy.stats.norm.cdf\n",
    "sample = np.array([norm.cdf(x, loc=0, scale=1) for x in numbers])\n",
    "\n",
    "# now we compute our KS statistic\n",
    "statistic, critical_value, p_value = ks_test(sample)\n",
    "\n",
    "print(f\"KS test statistic: {statistic:.4f}\")\n",
    "print(f\"p-value: {p_value:.4f}\")\n",
    "print(f\"Critical value: {critical_value:.4f}\")"
   ]
  },
  {
   "cell_type": "markdown",
   "id": "73256ba1-fc1c-4ff1-a704-8cefb970c9fa",
   "metadata": {},
   "source": [
    "Even though the KS test is not a definitive test for determining the quality of Random Number Generators (RNGs), we can see that NumPy's random is pretty good. You can see how it works more in depth [here](https://numpy.org/devdocs/reference/random/index.html). In newer NumPy versions (>1.17), it uses a variant of a [Mersenne Twister 19937](https://en.wikipedia.org/wiki/Mersenne_Twister). You need to keep in mind that even though it produces satisfactory results, it is still a pseudorandom number generator, and it _will not provide crytographically secure numbers_.\n",
    "\n",
    "P.S.: For a quick KS test, you can call the built-in _scipy_ function:"
   ]
  },
  {
   "cell_type": "code",
   "execution_count": 48,
   "id": "f543eed3-5594-445d-b438-2d86a34fc6fc",
   "metadata": {
    "tags": []
   },
   "outputs": [
    {
     "name": "stdout",
     "output_type": "stream",
     "text": [
      "Test statistic: 0.0252\n",
      "P-value: 0.5426\n"
     ]
    }
   ],
   "source": [
    "sample = np.random.rand(1000)\n",
    "test_statistic, p_value = kstest(sample, 'uniform')\n",
    "\n",
    "print(f\"Test statistic: {test_statistic:.4f}\")\n",
    "print(f\"P-value: {p_value:.4f}\")"
   ]
  },
  {
   "cell_type": "markdown",
   "id": "178d21cf",
   "metadata": {},
   "source": [
    "### Fisher's Exact Test\n",
    "\n",
    "This test is a statistical method used to determine the significance of the association between two categorical variables in a contingency table, particularly when the sample size is small. Unlike numerical variables, which represent quantities or measurements, categorical variables classify data into distinct groups or categories based on some characteristic or attribute. \n",
    "\n",
    "For example, if we were studying the preferences of people for ice cream flavors, the variable `ice cream flavor` would be categorical because it categorizes individuals into groups based on their preferred flavor (e.g., chocolate, vanilla, strawberry).\n",
    "\n",
    "A contingency table is a tabular representation of the joint distribution of two or more categorical variables. It organizes the data into rows and columns, with each cell in the table representing the count or frequency of observations that fall into a particular combination of categories for the variables being studied."
   ]
  },
  {
   "cell_type": "markdown",
   "id": "6163fa28",
   "metadata": {},
   "source": [
    "For hand calculations, the test is feasible only in the case of a 2 × 2 contingency table. However, the principle of the test can be extended to the general case of an m × n table, and some statistical packages provide a calculation (sometimes using a [Monte Carlo method](https://stats.stackexchange.com/questions/1805/fishers-exact-test-in-contingency-tables-larger-than-2x2) to obtain an approximation) for the more general case. For now, suppose we have the following 2×2 table:\n",
    "\n",
    "|           \t| **Class I** \t| **Class II** \t|     **Total**     \t|\n",
    "|:---------:\t|:-----------:\t|:------------:\t|:-----------------:\t|\n",
    "|  **Blue** \t|      `a`      \t|       `b`      \t|       a + b       \t|\n",
    "|  **Red**  \t|      `c`      \t|       `d`      \t|       c + d       \t|\n",
    "| **Total** \t|    a + c    \t|     b + d    \t| a + b + c + d = n \t|\n",
    "\n",
    "\n",
    "The one-tailed p value for Fisher’s Exact Test is calculated as:\n",
    "\n",
    "$$p = \\frac{(a + b)! \\; (c + d)! \\; (a + c)! \\; (b + d)!}{a! \\; b! \\; c! \\; d! \\; n!}$$\n",
    "\n",
    "This produces the same p-value as the CDF of the hypergeometric distribution with the following parameters:\n",
    "\n",
    "* population size = n\n",
    "* population “successes” = a+b\n",
    "* sample size = a + c\n",
    "* sample \"successes\" = a"
   ]
  },
  {
   "cell_type": "markdown",
   "id": "f5579788",
   "metadata": {},
   "source": [
    "Let's return to the ice cream example. Suppose we surveyed 80 people about their favorite ice cream flavor, and we categorized their preferences into more detailed groups: `Teenagers` (under 18 years old), and `Adults` (over 18 years old). The contingency table for the joint distribution is shown below:\n",
    "\n",
    "\n",
    "|               \t| **Teenagers** \t| **Adults** \t| **Total** \t|\n",
    "|:-------------:\t|:-------------:\t|:----------:\t|:---------:\t|\n",
    "| **Chocolate** \t|       10      \t|     25     \t|     35    \t|\n",
    "|  **Vanilla**  \t|       15      \t|     30     \t|     45    \t|\n",
    "|   **Total**   \t|       25      \t|     55     \t|     80    \t|\n",
    "\n",
    "\n",
    "In this table, each cell represents the count of individuals who prefer a specific flavor of ice cream within a particular age group. For example, 10 teenagers prefer Chocolate ice cream and 25 adults prefer Chocolate ice cream. The last row and column show the totals for each age group and each ice cream flavor, respectively."
   ]
  },
  {
   "cell_type": "markdown",
   "id": "a249a736",
   "metadata": {},
   "source": [
    "Now, we'll use the Fisher's Exact test to check if we have a non-random connection between our categorical variables (or, to express it simply, if there is a significant correlation between the ice cream flavors and people that buy it). Let's choose $\\alpha = 0.05$ as our significance level.\n",
    "\n",
    "* $H_0$ (null hypothesis): The two variables are independent.\n",
    "* $H_1$ (alternative hypothesis): The two variables are not independent."
   ]
  },
  {
   "cell_type": "code",
   "execution_count": 49,
   "id": "58be4a9e",
   "metadata": {},
   "outputs": [
    {
     "name": "stdout",
     "output_type": "stream",
     "text": [
      "Failed to reject the null hypothesis!\n",
      "Odds Ratio: 0.8\n",
      "P-value: 0.8084\n"
     ]
    }
   ],
   "source": [
    "# Choose the significance level\n",
    "alpha = 0.05\n",
    "\n",
    "# TODO Contingency table data\n",
    "# The data from the last row and column (Total) should not be included.\n",
    "observed = ...\n",
    "\n",
    "# TODO Perform Fisher's exact test\n",
    "odds_ratio, p_value = ...\n",
    "\n",
    "if p_value <= alpha:\n",
    "    print(\"The null hypothesis is rejected!\")\n",
    "else:\n",
    "    print(\"Failed to reject the null hypothesis!\")\n",
    "\n",
    "# Print the results\n",
    "print(\"Odds Ratio:\", odds_ratio)\n",
    "print(f\"P-value: {p_value:.4f}\")"
   ]
  },
  {
   "cell_type": "markdown",
   "id": "ea6da38e",
   "metadata": {},
   "source": [
    "You should obtain a p-value of $\\approx$ 0.8. Since the obtained p-value is greater than $\\alpha = 0.05$, we fail to reject the null hypothesis. This indicates that there is no correlation between the ice cream flavors and the age categories that purchase it, and that the two factors are actually independent.\n",
    "\n",
    "The odds ratio quantifies the likelihood of an event (in our case preferring a certain ice cream flavor) occurring in one group (teenagers) compared to another group (adults). When there is an equal chance that both groups will like flavored ice cream, the odds ratio is 1. In this case, it should be 0.8, meaning that teenagers are less likely to enjoy flavored ice cream than adults. The reverse outcome would occur if the odds ratio was greater than 1."
   ]
  }
 ],
 "metadata": {
  "kernelspec": {
   "display_name": "Python 3 (ipykernel)",
   "language": "python",
   "name": "python3"
  },
  "language_info": {
   "codemirror_mode": {
    "name": "ipython",
    "version": 3
   },
   "file_extension": ".py",
   "mimetype": "text/x-python",
   "name": "python",
   "nbconvert_exporter": "python",
   "pygments_lexer": "ipython3",
   "version": "3.10.11"
  }
 },
 "nbformat": 4,
 "nbformat_minor": 5
}
