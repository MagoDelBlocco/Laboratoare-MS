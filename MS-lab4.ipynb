{
  "cells": [
    {
      "cell_type": "markdown",
      "source": [
        "#Modeling and Simulation 4 - Statistical tests"
      ],
      "metadata": {
        "id": "eUSBgScUUMgV"
      }
    },
    {
      "cell_type": "markdown",
      "source": [
        "Statistical tests are methods to answer \"yes or no\" to various research questions about a population using data from a sample. For example:\n",
        "\n",
        "*   Is the mean height in the population different from 171 cm?  \n",
        "*   Is the average income disparity between males and females in the organization different from 0?\n",
        "*   Is the mean of kills in a game differences before and after the bootcamp different from 0 in the population of gameplayers?\n",
        "*   Is the variable normally distributed in the population?  \n"
      ],
      "metadata": {
        "id": "zH8Y9DKEI2rw"
      }
    },
    {
      "cell_type": "markdown",
      "source": [
        "\n",
        "There are approximately 100 statistical tests, each tailored for different scenarios and research questions. In this laboratory, you will focus on only two, with the hope that understanding the underlying mechanism of these tests will make it easier to comprehend the others when needed."
      ],
      "metadata": {
        "id": "6eAwaTR_Yhuu"
      }
    },
    {
      "cell_type": "markdown",
      "source": [
        "##Understanding the p-value and statistical tests"
      ],
      "metadata": {
        "id": "5SF9PpNIY8DC"
      }
    },
    {
      "cell_type": "markdown",
      "source": [
        "The p-value is a concept closely related to statistical tests. It was developed as a measure to help answer research questions formulated in the manner presented above.\n",
        "\n",
        "The main principle behind the p-value and statistical testing in general is to assess the **extremeness of an estimate** concerning a population parameter based on the sample, **assuming a specific parameter value for the population**."
      ],
      "metadata": {
        "id": "gfqyH3J_717F"
      }
    },
    {
      "cell_type": "markdown",
      "source": [
        "For example, suppose we want to determine if the mean height in a population is different from 171 cm. To answer the question, \"Is it different?\" or \"Is it not different?\" using a statistical test, we need to follow these steps:\n",
        "\n",
        "1. Gather a sample and compute the sample mean — This provides an estimate of the population mean.\n",
        "\n",
        "2. Assume the population mean is 171 cm and define the sampling distribution of the sample means — This involves generating the distribution of sample means that would occur if the true population mean was 171 cm and we would gather many samples similar to the one that we extracted.\n",
        "\n",
        "3. Compare the sample mean to the sampling distribution of the sample mean and assess its extremity. Determine how unlikely the sample mean you extracted is, given the distribution of possible sample means mentioned at step 2\n"
      ],
      "metadata": {
        "id": "Qo6SguYspYat"
      }
    },
    {
      "cell_type": "markdown",
      "source": [
        "\n",
        "💡 It is important to contextualize how we arrive at the question, \"Is the mean height in the population different from 171 cm?\" to better understand the steps outlined above. The key principle at play here is [falsifiability](https://en.wikipedia.org/wiki/Falsifiability), and for the example above, it works as follows:\n",
        "\n",
        "1. A researcher proposes a theory or model. For it to be considered scientific, it must be falsifiable—meaning it must make predictions that can be proven true or false. For example, suppose that the theory or model predicts that the mean height in the population is 171 cm.\n",
        "2. Another researcher questions the validity of this theory or model and attempts to falsify it by showing that the sample mean they observed would be a **highly unlikely coincidence if the theory/model was true**. (This is where the p-value comes in—it measures the likelihood of observing a sample mean as extreme as the one observed if the theory/model is correct.)\n",
        "3. If the sample data suggests that such an outcome is highly unlikely, it can be interpreted as evidence that the proposed theory/model may not be accurate, thereby rejecting it.\n",
        "4. Replications of the experiment are necessary before reaching a definitive conclusion. Afterwards, novel theories or models can be advanced."
      ],
      "metadata": {
        "id": "4C1H8syC-s9U"
      }
    },
    {
      "cell_type": "markdown",
      "source": [
        "###Exercise 1: Estimation and Pivot Distribution"
      ],
      "metadata": {
        "id": "w47PTDzTBYP_"
      }
    },
    {
      "cell_type": "markdown",
      "source": [
        "In this exercise, you will familiarize with the innerworkings of a statistical test used to answer the question \"Is the mean height in the population different from 171 cm?\""
      ],
      "metadata": {
        "id": "v864K-evnnk4"
      }
    },
    {
      "cell_type": "markdown",
      "source": [
        "####a. To begin, fill in the code snippet below to **simulate a population of 1,459 heights measurements of individuals, knowing that their heights are normally distributed with a mean of 173 cm and a standard deviation of 10 cm**"
      ],
      "metadata": {
        "id": "S18PBGDGUMw8"
      }
    },
    {
      "cell_type": "code",
      "source": [
        "import numpy as np\n",
        "import matplotlib.pyplot as plt\n",
        "\n",
        "np.random.seed(42)\n",
        "\n",
        "#ToDo: Set de appropiate parameters\n",
        "population_size =\n",
        "mean_height =\n",
        "std_dev_height =\n",
        "\n",
        "\n",
        "population_heights = np.random.normal(mean_height, std_dev_height, population_size)\n",
        "\n",
        "plt.figure(figsize=(10, 6))\n",
        "plt.hist(population_heights, bins=50, color='skyblue', edgecolor='black')\n",
        "plt.title('Histogram of Simulated Population Heights')\n",
        "plt.xlabel('Height (cm)')\n",
        "plt.ylabel('Frequency')\n",
        "plt.show()\n"
      ],
      "metadata": {
        "id": "PyHj6QqGsWeG"
      },
      "execution_count": null,
      "outputs": []
    },
    {
      "cell_type": "markdown",
      "source": [
        "💡This represents our true population. In practice, we don't have access to this data. Instead, we formulate hypotheses about the true mean based on theory or models, then extract samples to confirm/infirm the hypothesis."
      ],
      "metadata": {
        "id": "4Trr0kgwck13"
      }
    },
    {
      "cell_type": "markdown",
      "source": [
        "####b. Now fill in the code snippet below to **extract a sample of 30 unique individuals from the simulated population and compute the mean**."
      ],
      "metadata": {
        "id": "2xhi1UzQtfs4"
      }
    },
    {
      "cell_type": "code",
      "source": [
        "# ToDo: define sample size and extract a random sample of 30 individuals from the population defined above\n",
        "sample_size = #\n",
        "sample_heights = np.random.choice(#Give as input the population from which to sample, size=#size of the sample, replace=False)\n",
        "\n",
        "# ToDo: compute the sample mean\n",
        "sample_mean_extracted = np.mean(#Give as input the heights in the sample)\n",
        "\n",
        "print(f\"Sample Mean Height (n={sample_size}): {sample_mean_extracted:.2f} cm\")\n",
        "\n",
        "plt.figure(figsize=(10, 6))\n",
        "plt.hist(sample_heights, bins=50, color='lightgreen', edgecolor='black')\n",
        "\n",
        "#ToDo: use a red line to show the sample mean on the plot\n",
        "plt.axvline(#Give as input the value of the mean, color= , linestyle='dashed', linewidth=2)\n",
        "\n",
        "plt.title('Histogram of heights in one extracted sample (n=30)')\n",
        "plt.xlabel('Height (cm)')\n",
        "plt.ylabel('Frequency')\n",
        "plt.show()"
      ],
      "metadata": {
        "id": "uRWfxOQ9twTG"
      },
      "execution_count": null,
      "outputs": []
    },
    {
      "cell_type": "markdown",
      "source": [
        "💡 This is what we typically work with in practice: a sample and the information related to its extraction, namely its size."
      ],
      "metadata": {
        "id": "KvWF0ADYdJIz"
      }
    },
    {
      "cell_type": "markdown",
      "source": [
        "####c. Next, complete the code snippet below to **simulate the distribution of 1000 sample means, assuming the population mean is 171 cm and that you conduct a similar extraction procedure as the one above**."
      ],
      "metadata": {
        "id": "SytcK86UuOBQ"
      }
    },
    {
      "cell_type": "code",
      "source": [
        "#ToDo: Set the hypothesized population parameters (notice that here we deal with a hypothesis, not the true height)\n",
        "population_size_hypothesis = 1459\n",
        "std_dev_height_hypothesis = #STDsameAsTheOriginalPopulation\n",
        "mean_height_hypothesis = #HypothesizedMean\n",
        "\n",
        "population_heights_if_mean_171 = np.random.normal(mean_height_hypothesis, std_dev_height_hypothesis, population_size_hypothesis)\n",
        "\n",
        "\n",
        "#ToDo: define how many samples to extract in the simulation and the sample size\n",
        "num_samples = #how many extraction + means to conduct\n",
        "sample_size_simulation = #this should have the same sample size as point b above;\n",
        "\n",
        "\n",
        "sample_means = []\n",
        "# ToDo:Simulate the repeated sampling process\n",
        "#Note that this is the same process as the one conducted in the previous code snippet, only that we repeat it for num_samples times\n",
        "for _ in range(num_samples):\n",
        "    #ToDo: Draw a random sample from the population of the same size as the one extracted above;\n",
        "    sample_heights = np.random.choice(#Give as input the hypothesized population from which to sample, size=#, replace=False)\n",
        "    #ToDo: For each sample compute the sample mean\n",
        "    sample_mean = np.mean(#Give as input the heights in the current sample)\n",
        "    #ToDo: Store the sample mean in the array\n",
        "    sample_means.append(#Give as input the computed mean)\n",
        "\n",
        "plt.figure(figsize=(10, 6))\n",
        "plt.hist(sample_means, bins=50, color='salmon', edgecolor='black')\n",
        "plt.title('Distribution of Sample Means (n=1000 sample means computed from repeated samples of 30 individuals)')\n",
        "plt.xlabel('Sample Mean Height (cm)')\n",
        "plt.ylabel('Frequency')\n",
        "plt.show()\n"
      ],
      "metadata": {
        "id": "vXDzB0ZuvKTt"
      },
      "execution_count": null,
      "outputs": []
    },
    {
      "cell_type": "markdown",
      "source": [
        "💡 This can also be conceptualized in practice without the need to simulate. We use only three pieces of information: the hypothesized true mean (based on theory or a model), the variance (which we assume to be known or estimate from the sample if the sample is big enough), and the size of the sample."
      ],
      "metadata": {
        "id": "yubz9xZpda8X"
      }
    },
    {
      "cell_type": "markdown",
      "source": [
        "❗ It can be proved that the mean of the distribution of sample means is equal to the true population mean, and the variance of the sample means is equal to the population variance divided by n."
      ],
      "metadata": {
        "id": "lomy-T3T9St8"
      }
    },
    {
      "cell_type": "markdown",
      "source": [
        "####d. Now fill in the code below to **map the sample mean that we computed at step b. on the distribution of sample means computed at step c**."
      ],
      "metadata": {
        "id": "Eq1mWW-wxWOt"
      }
    },
    {
      "cell_type": "code",
      "source": [
        "#ToDo:Plot the 1000 sample means\n",
        "plt.figure(figsize=(10, 6))\n",
        "plt.hist(#Give as input the 1000sample means computed at point c, bins=50, color='salmon', edgecolor='black')\n",
        "plt.title('Distribution of Sample Means (n=1000 sample means computed from samples of 30 individuals)')\n",
        "plt.xlabel('Sample Mean Height (cm)')\n",
        "plt.ylabel('Frequency')\n",
        "#ToDo: plot a red axline at the position corresponding to the sample mean that was extracted at point b.\n",
        "plt.axvline(#Give as input the mean extracted at point b, color='red', linestyle='dashed', linewidth=1)\n",
        "plt.show()"
      ],
      "metadata": {
        "id": "o42bF1VrxW6e"
      },
      "execution_count": null,
      "outputs": []
    },
    {
      "cell_type": "markdown",
      "source": [
        "We can now assess the extremity of the sample mean we obtained.\n",
        "Visually, we can already observe if the sample mean that we obtained is highly extreme (or highly unlikely) when compared to the distribution of sample means, assuming the population mean is 171.\n",
        "\n",
        "In this simulation, we already knew that the true population mean is different from 171. We generated it with a mean of 173. However, in practice, we do not have direct access to the population mean. Instead, we are limited to using the sample mean and comparing it to the distribution of sample means under the assumption of the hypothesized true mean."
      ],
      "metadata": {
        "id": "D5qS8Dsbp6dx"
      }
    },
    {
      "cell_type": "markdown",
      "source": [
        "\n",
        "❗If the sample mean does not appear extreme, try re-running the code from point b onwards. It is insightful to observe that this procedure may sometimes lead to the conclusion that the obtained sample mean is not extreme when considering a true mean of 171, even though we know the actual mean is 173."
      ],
      "metadata": {
        "id": "iUkp8xKgqVRu"
      }
    },
    {
      "cell_type": "markdown",
      "source": [
        "###Exercise 2: Measuring extremness via p-value (one-tailed)"
      ],
      "metadata": {
        "id": "qqvdQrgdp-5x"
      }
    },
    {
      "cell_type": "markdown",
      "source": [
        "To measure the extremity of the obtained sample mean we can count the proportion of sample means that fall above it (or below, depending on the closest tail) in the distribution of the sample means.\n",
        "\n",
        "❗Remember that the distribution of the sample means was generated assuming that the population mean (which is the same as the mean of means) is 171.\n"
      ],
      "metadata": {
        "id": "4padRPptqHtb"
      }
    },
    {
      "cell_type": "markdown",
      "source": [
        "####f. In the code snippet below, **count the number of sample means from point d. in the previous exercise that are greater than the mean obtained at point b.**\n"
      ],
      "metadata": {
        "id": "-1uhd3vKkaEw"
      }
    },
    {
      "cell_type": "code",
      "source": [
        "#ToDo: count the number of means in the distribution of possible samples higher that the one extracted\n",
        "count_means_greater = sum(mean > #theMeanFromtheSample for mean in #TheListWithTheSampleMeans)"
      ],
      "metadata": {
        "id": "DPggkFCEltJ-"
      },
      "execution_count": null,
      "outputs": []
    },
    {
      "cell_type": "markdown",
      "source": [
        "####g. Now **divide the number from point f. by the total number of samples from point d.**"
      ],
      "metadata": {
        "id": "MUY6uAn3mWVK"
      }
    },
    {
      "cell_type": "code",
      "source": [
        "#ToDo: divide the number of means in the distribution of possible samples higher that the one extracted to the total number of possible samples in the simulated distribution\n",
        "count_means_greater / len(#TheListWithTheSampleMeans)"
      ],
      "metadata": {
        "colab": {
          "base_uri": "https://localhost:8080/"
        },
        "id": "uot90D7amZ-K",
        "outputId": "498eab53-7f71-4bc8-fbbf-14196eb93528"
      },
      "execution_count": null,
      "outputs": [
        {
          "output_type": "execute_result",
          "data": {
            "text/plain": [
              "0.001"
            ]
          },
          "metadata": {},
          "execution_count": 7
        }
      ]
    },
    {
      "cell_type": "markdown",
      "source": [
        "Congratulations! You have just computed your first p-value (one-tailed).\n",
        "\n",
        "A low p-value indicates a large extremeness of the mean computed from the sample that was collected with respect to the distribution of the possible sample means, a distribution created based on the hypothesis that the true population mean is 171.\n",
        "\n",
        "This provides evidence to reject the hypothesized value in the population, namely 171, which, since we actually know the population (because we generated it), is 173."
      ],
      "metadata": {
        "id": "Kj9fqmPamq9i"
      }
    },
    {
      "cell_type": "markdown",
      "source": [
        "❗ Notice in practice we often use the two-tailed version, which is double the size of our computed p value. In this way, we also consider the possibility of obtaining a sample as extreme as the one obtained with respect to the other tail of the distribution.\n",
        "\n",
        "The main idea here is that we are looking at the probability of obtaining a sample mean that deviates from the population mean by at least as much as the observed sample mean. Since such a deviation could occur in either direction, we consider both tails of the distribution"
      ],
      "metadata": {
        "id": "VVP1aqvbqJ0b"
      }
    },
    {
      "cell_type": "markdown",
      "source": [
        "###Exercise 3: Theoretical Sampling Distribution and CDF"
      ],
      "metadata": {
        "id": "H6WdM7jMm4aM"
      }
    },
    {
      "cell_type": "markdown",
      "source": [
        "So far we simulated the distribution of the sample means. This involves having access to the population. However, in practice, we do not have access to the population.\n",
        "\n",
        "As such, we can use a theoretical distribution, because we know properties of the distributon of the sample means (the mean is equal to the population mean and the variance is equal to the population variance divided by n)"
      ],
      "metadata": {
        "id": "TaC-zHy9pDgF"
      }
    },
    {
      "cell_type": "markdown",
      "source": [
        "####h. Define the **probability density function (PDF) of a normal distribution with the same mean and variance** as the distribution of the sample means from point c in exercise 1.\n",
        "\n"
      ],
      "metadata": {
        "id": "x-NezWhcm9zf"
      }
    },
    {
      "cell_type": "markdown",
      "source": [
        "❗Remember that the distribution of the sample means has the same mean as the population from which samples were extracted. Likewise, it has the same variance as the population, except that it is divided by the sample size."
      ],
      "metadata": {
        "id": "S1TkcXSkVU40"
      }
    },
    {
      "cell_type": "markdown",
      "source": [
        "❗Also remember that the standard deviation is equal to the square root of the variance. Therefore, the standard deviation of the sample means (Standard Error) is the standard deviation of the population divided by the square root of the sample size"
      ],
      "metadata": {
        "id": "D6QdxgX9Ciyv"
      }
    },
    {
      "cell_type": "code",
      "source": [
        "import numpy as np\n",
        "import matplotlib.pyplot as plt\n",
        "from scipy.stats import norm\n",
        "\n",
        "#ToDo: Fill in the parameters of a normal distribution using point c. in exercise 1 and standard error\n",
        "mean_pdf_theoretical =\n",
        "std_dev_pdf_theoretical = #Here we will assume that we have access to the population standard deviation; there are also approaches based on estimating it from the sample\n",
        "\n",
        "x_2 = np.linspace(mean_pdf_theoretical - 4 * std_dev_pdf_theoretical, mean_pdf_theoretical + 4 * std_dev_pdf_theoretical, 1000) # Generating the x-axis values for the range from -4 to 4 standard deviations\n",
        "\n",
        "#ToDo: Generate the theoretical probability density function (PDF) of the sample means\n",
        "pdf_normal_theoretical = norm.pdf(x_2, loc=#TheMeanOfMeans, scale=#TheStandardDeviationofMeans)\n",
        "\n",
        "plt.plot(x_2, pdf_normal_theoretical , color='olivedrab', lw=2)\n",
        "plt.title('Theoretical distribution of the sample means')\n",
        "plt.xlabel('Mean height in a sample of 30')\n",
        "plt.ylabel('Probability Density')\n",
        "plt.grid(True)\n",
        "plt.show()"
      ],
      "metadata": {
        "id": "8TAabrQZrzBC"
      },
      "execution_count": null,
      "outputs": []
    },
    {
      "cell_type": "markdown",
      "source": [
        "####i. Now, **use the theoretical distribution to compute the probability of obtaining a sample mean greater than the one obtained in the actual extraction at point b.**\n",
        "\n"
      ],
      "metadata": {
        "id": "gLdCl63Mrzh8"
      }
    },
    {
      "cell_type": "markdown",
      "source": [
        "❗Remember that because we are working with a continuous distribution, we need to integrate rather than simply add probabilities."
      ],
      "metadata": {
        "id": "YmmbM5b9VgVp"
      }
    },
    {
      "cell_type": "code",
      "source": [
        "from scipy.integrate import simpson\n",
        "\n",
        "index_mean = np.searchsorted(x_2, sample_mean_extracted) # This finds the index where x_2 is greater than or equal to 178\n",
        "dx = x_2[1] - x_2[0]\n",
        "#ToDo: Integrate the area under the curve from the value of the extracted sample mean to the end (infinity) in the theoretical distribution\n",
        "probability_greater_than_178 = np.sum(#Values_Equal_OR_Bigger_than_indexmean_in_TheoreticalDistirbution * #MultiplywithDx)\n",
        "\n",
        "\n",
        "print(f\"The probability of observing a value higher than 178 is {probability_greater_than_178:.4f}\")\n",
        "\n",
        "plt.plot(x_2, pdf_normal_theoretical , color='olivedrab', lw=2)\n",
        "plt.title('Theoretical distribution of the sample means')\n",
        "plt.xlabel('Mean height in a sample of 30')\n",
        "plt.ylabel('Probability Density')\n",
        "#ToDo: plot a red axline at the position corresponding to the sample mean that was extracted at point b.\n",
        "plt.axvline(#Give as input the mean extracted at point b, color='red', linestyle='dashed', linewidth=1)\n",
        "plt.grid(True)\n",
        "plt.show()"
      ],
      "metadata": {
        "id": "h5a-4_QOFinF"
      },
      "execution_count": null,
      "outputs": []
    },
    {
      "cell_type": "markdown",
      "source": [
        "Notice that the extremness (or p-value) is close to the one computed at point g.\n",
        "\n"
      ],
      "metadata": {
        "id": "vxdU6FECJC7A"
      }
    },
    {
      "cell_type": "markdown",
      "source": [
        "####j. Use the **Cumulative Distribution Function (CDF) to evaluate the probability of obtaining a sample mean greater than the one obtained in the actual extraction at point b**"
      ],
      "metadata": {
        "id": "sZNeJ5qKWBXP"
      }
    },
    {
      "cell_type": "markdown",
      "source": [
        "Instead of adding or integrating the probabilities above or beyond the sample mean in the Probability Density Function (PDF) of the distribution of the sample means, we can use the Cumulative Distribution Function (CDF) of the same distribution.\n",
        "\n",
        "While the PDF shows the probability of a specific value x (in this case, the mean value), the CDF shows the probability of x being less than or equal to a certain value.\n",
        "\n",
        " To gain a better understanding, try **mapping the extracted sample mean to the CDF of the approximating distribution previously defined**"
      ],
      "metadata": {
        "id": "bLw-JnsxfKyk"
      }
    },
    {
      "cell_type": "code",
      "source": [
        "#ToDo: Fill in the parameters of a normal distribution using point c. in exercise 1 and standard error\n",
        "cdf_values = norm.cdf(x_2, loc=#MeanOFSampleMeans , scale=STDofSampleMeans ) # Compute the CDF of the theoretical distribution\n",
        "\n",
        "plt.plot(x_2, cdf_values, label='CDF', color='olivedrab', lw=2)\n",
        "#ToDo: plot a red axline at the position corresponding to the sample mean that was extracted at point b.\n",
        "plt.axvline(#Give as input the mean extracted at point b, color='red', linestyle='dashed', linewidth=1)\n",
        "plt.title('Cumulative Distribution Function (CDF)')\n",
        "plt.xlabel('x (Values)')\n",
        "plt.ylabel('CDF')\n",
        "plt.show()"
      ],
      "metadata": {
        "id": "1dIKTuBPXAYy"
      },
      "execution_count": null,
      "outputs": []
    },
    {
      "cell_type": "markdown",
      "source": [
        "Because the CDF shows the probability of obtaining a value (or possible sample mean) less than or equal to a target value (the mean obtained from an actual sample), obtaining the probability of getting a value greater than the target value requires subtracting it from one. Notice that we obtain an approximately similar p-value by using the CDF as we did at point g. in exercise 2."
      ],
      "metadata": {
        "id": "Amjg02CWXlfq"
      }
    },
    {
      "cell_type": "code",
      "source": [
        "import numpy as np\n",
        "from scipy.stats import norm\n",
        "\n",
        "#ToDo: Fill in the parameters of the distribution to obtain the probability of a value less than or equal with the value of the extracted sample\n",
        "cdf_probability_equalOrbigger = norm.cdf(#TheExtractedSampleMean, loc=#TheMeanOFMeans, scale=#TheStandardDeviationOfMeans)\n",
        "\n",
        "#ToDo: substract the cdf value from 1 to get the probability of a value bigger than it (it should be bigger or equal but we will ignore this for simplicity)\n",
        "probability_greater_than_sample_mean = 1 - #\n",
        "\n",
        "print(f\"The probability of observing a value higher than 178 in the CDF is {probability_greater_than_sample_mean:.4f}\")"
      ],
      "metadata": {
        "id": "JkghD2vhsPdn",
        "colab": {
          "base_uri": "https://localhost:8080/"
        },
        "outputId": "77a0ea22-ee4a-4b75-8525-a216978a2859"
      },
      "execution_count": null,
      "outputs": [
        {
          "output_type": "stream",
          "name": "stdout",
          "text": [
            "The probability of observing a value higher than 178 is 0.0009\n"
          ]
        }
      ]
    },
    {
      "cell_type": "markdown",
      "source": [
        "###Exercise 4: Standardization\n"
      ],
      "metadata": {
        "id": "IzXThMRS3RlO"
      }
    },
    {
      "cell_type": "markdown",
      "source": [
        "Imagine that you want to repeat the procedure for another population with a different hypothesis. You would need to compute a different sampling distribution of the sample means using the respective mean, standard deviation, and sample size each time. Instead, we can use standardization to always use the same distribution."
      ],
      "metadata": {
        "id": "qu1M4QVd3kkU"
      }
    },
    {
      "cell_type": "markdown",
      "source": [
        "❗Remember that standardizing a variable means **transforming it so that it has a mean of 0 and a standard deviation of 1**. This process, often called **z-score normalization**, allows for comparisons across different datasets or variables by placing them on a common scale.\n",
        "\n",
        "The formula for standardizing a variable $X$ is:\n",
        "\n",
        "\\begin{align}\n",
        "Z &= \\frac{X-\\mu}{\\sigma}\n",
        "\\end{align}\n",
        "\n",
        "where:\n",
        "- $Z$ is the standardized value (z-score),\n",
        "- $X$ is the original value,\n",
        "- $\\mu$ is the mean of the dataset,\n",
        "- $\\sigma$ is the standard deviation of the dataset."
      ],
      "metadata": {
        "id": "9MGWwIMgTi5R"
      }
    },
    {
      "cell_type": "markdown",
      "source": [
        "####k. In the code snippet below, **convert the theoretical distribution defined at point h in the previous exercise into a standard normal distribution**. In other words, standardize the variable representing the sample means."
      ],
      "metadata": {
        "id": "XFId-k_t5dkE"
      }
    },
    {
      "cell_type": "markdown",
      "source": [
        "❗You will need to use the standardization formula above. Remember that $X$ represents the values of the sample means, $\\mu$ is the mean of the distribution of the sample means (which is also the hypothesized mean of the population from which the sample was drawn), and $\\sigma$ is the standard deviation of the same distribution of the sample means (which is the standard deviation of the original variable divided by the square root of the sample size)."
      ],
      "metadata": {
        "id": "lc2ehbXn6o2m"
      }
    },
    {
      "cell_type": "code",
      "source": [
        "#ToDo: Use the formula above to standardize the x line of the approximating distribution\n",
        "x_standardized = ((x_2 - #SubstractTheMeanofMeans) / (#DivideByTheStandardDeviationofMeans))\n",
        "\n",
        "plt.figure(figsize=(12, 6))\n",
        "plt.subplot(1, 2, 1)\n",
        "plt.plot(x_2, pdf_normal_theoretical, color='olivedrab', lw=2)\n",
        "plt.title('Original Approximating Distribution of Sample Means\\nMean = 171, Std = 10')\n",
        "plt.xlabel('Height means in repeated samples of 30')\n",
        "plt.ylabel('Probability Density')\n",
        "plt.grid(True)\n",
        "plt.subplot(1, 2, 2)\n",
        "\n",
        "plt.plot(x_standardized, pdf_normal_theoretical, color='b', lw=2)\n",
        "plt.title('Standardized Approximating Distribution of Sample Means\\nMean = 0, Std = 1')\n",
        "plt.xlabel('Standardized height means in repeated samples of 30')\n",
        "plt.ylabel('Probability Density')\n",
        "plt.grid(True)\n",
        "plt.tight_layout()\n",
        "plt.show()"
      ],
      "metadata": {
        "id": "y9kSMqJXHZKd"
      },
      "execution_count": null,
      "outputs": []
    },
    {
      "cell_type": "markdown",
      "source": [
        "❗Notice that even though the variance and standard deviation change, the relative positions of the data points (the spread of the data) do not change. The overall shape of the distribution stays the same. Here's why:\n",
        "\n",
        "*   Scaling: When you divide by σ, you’re scaling the data so that it is expressed in terms of the number of standard deviations away from the mean. All data points are just \"stretched\" or \"compressed\" based on their distance from the mean, but the overall relationship between the data points remains intact.\n",
        "\n",
        "*   Shift: By subtracting μ, you shift the data to center it at 0, but this doesn’t affect how the values are spread out around the center (other than making the mean 0). The shape of the distribution, whether it’s symmetric, skewed, or normal, remains the same. All we're doing is relocating and rescaling the data on the number scale."
      ],
      "metadata": {
        "id": "LpdCHg7A6MpE"
      }
    },
    {
      "cell_type": "markdown",
      "source": [
        "####l. Now **plot the sample mean obtained in the actual extraction at point b. on the standardized distribution and measure its extremness**."
      ],
      "metadata": {
        "id": "jdtTEbp2h65V"
      }
    },
    {
      "cell_type": "markdown",
      "source": [
        "Since the obtained sample mean is a possible value of the random variable defined by the distribution of all possible sample means, we can apply the standardization formula:\n",
        "\n",
        "\n",
        "\\begin{align}\n",
        "Z &= \\frac{\\bar{X}-\\mu_0}{\\frac{\\sigma}{\\sqrt{n}}}\n",
        "\\end{align}\n",
        "\n",
        "where:\n",
        "- $Z$ is the standardized position/value of the obtained sample mean within the distribution of sample means,\n",
        "- $\\bar{X}$ is the sample mean obtained from the extracted sample,\n",
        "- $\\mu_0$ is the hypothesized population mean (also known as the null hypothesis mean) which is also the average mean in the distribution of the sample means.\n",
        "- $\\frac{\\sigma}{\\sqrt{n}}$ is the standard deviation of the distribution of sample means (commonly referred to as the standard error)"
      ],
      "metadata": {
        "id": "RFmq6mnkiOwA"
      }
    },
    {
      "cell_type": "code",
      "source": [
        "#ToDo: standardize the obtained sample mean;\n",
        "standardized_extracted_mean = ((sample_mean_extracted - #SubstractTheMeanofMeans) / (#DivideByTheStandardDeviationofMeans))\n",
        "\n",
        "plt.plot(x_standardized, pdf_normal_theoretical, color='b', lw=2)\n",
        "plt.title('Standardized Theoretical Distribution of Sample Means\\nMean = 0, Std = 1')\n",
        "plt.xlabel('Standardized height means in repeated samples of 30')\n",
        "plt.ylabel('Probability Density')\n",
        "#ToDo: plot a red axline at the position corresponding to the standardized sample mean that was extracted at point b.\n",
        "plt.axvline(#theStandardizedMean, color='red', linestyle='dashed', linewidth=1)\n",
        "\n",
        "plt.grid(True)\n",
        "plt.show()\n"
      ],
      "metadata": {
        "id": "je6lAsO-TGh9"
      },
      "execution_count": null,
      "outputs": []
    },
    {
      "cell_type": "markdown",
      "source": [
        "💡 With this approach, you can now use the same standard distribution for all distributions of sample means, regardless of their mean and variance, as long as the distribution of sample means has a roughly normal shape (which it approaches via the Central Limit Theorem as the sample size increases). This provides a convenient shortcut for testing the extremity of sample means. Instead of generating the distribution of sample means each time, you simply standardize the sample mean, mapping it onto the same standard distribution mentioned above."
      ],
      "metadata": {
        "id": "OZAqFPy6E8Q_"
      }
    },
    {
      "cell_type": "markdown",
      "source": [
        "####m. Identify **the extremness of the standardized sample mean using the Z table**"
      ],
      "metadata": {
        "id": "PJTLJyUW-axM"
      }
    },
    {
      "cell_type": "markdown",
      "source": [
        "Instead of calculating the probability above the red line in the previous graph to assess the extremity of the obtained standardized sample mean, we can use the Z-table. The Z-table is nothing more that the almost already done calculations of extremness for each possible value in the standardized distribution. In other words, it contains the CDF values of the Z distribution"
      ],
      "metadata": {
        "id": "1Iy6c8jFE0xn"
      }
    },
    {
      "cell_type": "markdown",
      "source": [
        "First, print the position/value/z-score in the standardized distribution of the obtained sample mean"
      ],
      "metadata": {
        "id": "Px1F2p1PKKn7"
      }
    },
    {
      "cell_type": "code",
      "source": [
        "#ToDo: Print the standardized extracted mean\n",
        "\n",
        "print(#TheStandardizedMean)"
      ],
      "metadata": {
        "id": "zhmKd3h-IJHx"
      },
      "execution_count": null,
      "outputs": []
    },
    {
      "cell_type": "markdown",
      "source": [
        "Next, refer to the Z-table [here](https://users.stat.ufl.edu/~mripol/STA2023/Z-table.pdf). In the first column, locate the row corresponding to the first two digits of the Z-score printed above. Then, in the first row, find the column corresponding to the third digit of the Z-score printed above.\n",
        "\n",
        "For example, if the Z-score is 3.13, locate the row labeled **3.1** in the first column and the column labeled **0.03** in the first row. The intersection of the **3.1** row and **0.03** column provides the probability of obtaining a Z-score less than or equal to 3.13. In this case, the value is **0.9991**.\n",
        "\n",
        "To find the probability of obtaining a Z-score greater than 3.13, subtract this value from 1:  1 - 0.9991 = 0.0009\n",
        "\n",
        "Thus, the probability of obtaining a Z-score greater than 3.13 is **0.0009**."
      ],
      "metadata": {
        "id": "NpPkDfLVKcnP"
      }
    },
    {
      "cell_type": "markdown",
      "source": [
        "Congratulations! You have just conducted your first one-sample Z-test, one of the 100 statistical tests mentioned at the beginning of this lab."
      ],
      "metadata": {
        "id": "vPlrzLoJoNEn"
      }
    },
    {
      "cell_type": "markdown",
      "source": [
        "## 📓Note: Hypothesis testing is not significance testing but defaults on it"
      ],
      "metadata": {
        "id": "BRFJUfbHqtL0"
      }
    },
    {
      "cell_type": "markdown",
      "source": [
        "You should distinguish the p-value from alpha ($α$). They belong to different approaches for using data from a sample to make an inference about the population.\n",
        "\n",
        "While an introduction to both perspectives is beyond the scope of this laboratory, it is worth noting the following:\n",
        "\n",
        "- The p-value approach is called \"significance testing\" and follows a post-data collection method. In this approach, you start with a null hypothesis, which you attempt to reject by measuring the extremeness of the sample statistic (as seen in the exercises presented so far, where the null hypothesis was that the population mean was 171). You don't have a decision rule. You just decide, based on domain-knowledge, if something is too extreme. Additionaly, you don't decide only after one experiment. You coduct multiple experiments before taking a decision.\n",
        "  \n",
        "- The alpha approach is called \"hypothesis testing\" and involves both a null hypothesis and an alternative hypothesis. It follows a pre-data collection method, where you first define an alpha level (the acceptable degree of type 1 error) and also consider type 2 error. Based on the desired error rates, you calculate the minimum sample size required for the test. The testing process then becomes similar to the p-value approach, with the main difference being that, instead of computing the p-value, you compare the extremeness of the test statistic to a threshold (alpha).\n",
        "\n",
        "- There is often confusion between the two approaches, and they are sometimes used interchangeably. For example, researchers might establish both null and alternative hypothesis, an alpha value, skip the sample size calculation, and then compute the p-value, which is incoherent.\n",
        "\n",
        "In this laboratory, we will focus only on the p-value approach. Most software is built using the p-value approach, as the alpha approach defaults to the p-value method when the required sample size is not computed beforehand. Therefore, we will strictly focus on the p-value approach and exclude terms like \"significance level,\" \"alternative hypothesis,\" \"power,\" \"type 1 error,\" and \"type 2 error.\""
      ],
      "metadata": {
        "id": "ocobiqW6R1R9"
      }
    },
    {
      "cell_type": "markdown",
      "source": [
        "##Two-sample Z-test"
      ],
      "metadata": {
        "id": "xuBu0TW4qLem"
      }
    },
    {
      "cell_type": "markdown",
      "source": [
        "In previous exercises, you learned how the one-sample Z-test works under the hood in a significance testing framework:\n",
        "\n",
        "1. Gather a sample from the population.  \n",
        "2. Generate a distribution of possible sample means obtained from similar samples, assuming a certain hypothesis as being true ( we use the Z-distribution).  \n",
        "3. Compute the standardized mean (Z-score) from the extracted sample.  \n",
        "4. Evaluate the extremity of this Z-score using the Z-distribution.\n",
        "\n",
        "Formally, the Z-score in the one sample Z-test is computed using the following formula, and its extremity is assessed using Z-tables.\n",
        "\n",
        "\n",
        "\\begin{align}\n",
        "Z &= \\frac{\\bar{X}-\\mu_0}{\\frac{\\sigma}{\\sqrt{n}}}\n",
        "\\end{align}\n"
      ],
      "metadata": {
        "id": "ssOJaUDDMt2v"
      }
    },
    {
      "cell_type": "markdown",
      "source": [
        "The two-sample Z-test works in a similar fashion, except that:\n",
        "\n",
        "* The mean ($\\bar{X}$) is replaced by a difference of means ($\\bar{X_1} - \\bar{X_2}$).  \n",
        "* The population mean $\\mu_0$ (also called the hypothesis or the hypothesized parameter) is replaced by a mean difference (also called the hypothesized difference); this is often 0.  \n",
        "* The standard deviation $\\frac{\\sigma}{\\sqrt{n}}$ is replaced by the sum of the standard deviations of the two distributions of the sample mean $\\frac{\\sigma_1}{\\sqrt{n_1}} + \\frac{\\sigma_2}{\\sqrt{n_2}}$.  \n",
        "\n",
        "\n"
      ],
      "metadata": {
        "id": "_BmdLwdB3JN3"
      }
    },
    {
      "cell_type": "markdown",
      "source": [
        "\\begin{align}\n",
        "Z &= \\frac{(\\bar{X_1}-\\bar{X_2})-(\\mu_1 - \\mu_2)}{\\frac{\\sigma_1}{\\sqrt{n_1}} + \\frac{\\sigma_2}{\\sqrt{n_2}}}\n",
        "\\end{align}\n"
      ],
      "metadata": {
        "id": "B6RzVVQHUGDp"
      }
    },
    {
      "cell_type": "markdown",
      "source": [
        "💡 If the one-sample Z-test answers questions like \"Is the mean height in the population different from 171?\", the two-sample Z-test answers questions like \"Is the difference in heights between the (sub)population of boys and the (sub)population of girls different from 0?\""
      ],
      "metadata": {
        "id": "LBfb_ajZqfBe"
      }
    },
    {
      "cell_type": "markdown",
      "source": [
        "###Exercise 5: Is the average income disparity between males and females in the organization different from 0? (*Do males and females have different wages?*)"
      ],
      "metadata": {
        "id": "8L3rA0WhhwOT"
      }
    },
    {
      "cell_type": "markdown",
      "source": [
        "####a. In the following code snippet, **simulate an organization with 400 males and 600 females, along with their incomes**."
      ],
      "metadata": {
        "id": "5c9VRYVEiOeW"
      }
    },
    {
      "cell_type": "code",
      "source": [
        "import numpy as np\n",
        "import matplotlib.pyplot as plt\n",
        "from matplotlib.ticker import FuncFormatter\n",
        "\n",
        "\n",
        "np.random.seed(42) #This sets a random seed for reproducibility\n",
        "\n",
        "#ToDo: Define population sizes\n",
        "num_males =\n",
        "num_females =\n",
        "\n",
        "male_income = np.random.lognormal(mean=9, sigma=0.5, size=num_males)  # Higher log mean for males\n",
        "female_income = np.random.lognormal(mean=8.8, sigma=0.5, size=num_females)  # Lower log mean for females\n",
        "\n",
        "plt.figure(figsize=(12, 6))\n",
        "plt.hist(male_income, bins=30, alpha=0.6, label='Male Income', color='blue')\n",
        "plt.hist(female_income, bins=30, alpha=0.6, label='Female Income', color='pink')\n",
        "plt.title('Income Distribution for Males and Females')\n",
        "plt.xlabel('Income (RON)')\n",
        "plt.ylabel('Number of Individuals')\n",
        "plt.legend()\n",
        "plt.show()\n",
        "\n",
        "print(f\"Average Male Income:RON{np.mean(male_income):,.2f}\")\n",
        "print(f\"Average Female Income:RON{np.mean(female_income):,.2f}\")\n",
        "\n"
      ],
      "metadata": {
        "id": "XmzyELXpYMKx"
      },
      "execution_count": null,
      "outputs": []
    },
    {
      "cell_type": "markdown",
      "source": [
        "💡In practice, we are unaware of the distribution above as we do not have direct access to the population. Instead, we will try to identify this pattern based on a sample. In this exercise we assume to know that:\n",
        "*   There are 60% females and 40% males\n",
        "*   The standard deviation in income is 4000 RON for both populations.\n",
        "\n"
      ],
      "metadata": {
        "id": "iMdQ-pG4h3iw"
      }
    },
    {
      "cell_type": "markdown",
      "source": [
        "Next we will use a two-sample Z test in order to answer the following question:\n",
        "\n",
        "Is the average income disparity between males and females in the organization different from 0?\n"
      ],
      "metadata": {
        "id": "Z2bGHPg6hBxL"
      }
    },
    {
      "cell_type": "markdown",
      "source": [
        "####b. **Extract a random sample  of 200 individuals from the population by considering the male/female proportions**"
      ],
      "metadata": {
        "id": "VV4iOHB1ll5_"
      }
    },
    {
      "cell_type": "code",
      "source": [
        "# ToDo: Perform stratified sampling by defining the size of each group in accordance to the population proportions\n",
        "sample_size_males =\n",
        "sample_size_females =\n",
        "\n",
        "\n",
        "#ToDo: Extract a sample of males and a sample of females from the population without replacement\n",
        "#remember that the populations were defined at point a.\n",
        "sampled_males = np.random.choice(#PopulationFromWhichToSample, size=#, replace=False)\n",
        "sampled_females = np.random.choice(#PopulationFromWhichToSample, size=#, replace=False)\n",
        "\n",
        "\n",
        "plt.figure(figsize=(12, 6))\n",
        "plt.hist(sampled_males, bins=30, alpha=0.6, label='Male Income', color='green')\n",
        "plt.hist(sampled_females, bins=30, alpha=0.6, label='Female Income', color='lightgreen')\n",
        "plt.title('Income distribution for the extracted sample of males and females')\n",
        "plt.xlabel('Income (RON)')\n",
        "plt.ylabel('Number of Individuals')\n",
        "plt.legend()\n",
        "plt.show()"
      ],
      "metadata": {
        "id": "vc6AqOVzhdHz"
      },
      "execution_count": null,
      "outputs": []
    },
    {
      "cell_type": "markdown",
      "source": [
        "####c. **Conduct the Z-test**"
      ],
      "metadata": {
        "id": "f04fRhfMlqO5"
      }
    },
    {
      "cell_type": "code",
      "source": [
        "from statsmodels.stats.weightstats import ztest\n",
        "\n",
        "#ToDo: Use the ztest() function by giving it the sample of males, the sample of females and whether the variance is equal or not\n",
        "z_statistic_twosamples, p_value_z_twosamples = ztest(#sampleOfMales, #sampleOfMales, usevar=\"pooled\") ###change usevar to \"unequal\" if unequal variance is assumed\n",
        "\n",
        "print(f\"Z Statistic: {z_statistic_twosamples}\")\n",
        "print(f\"P-value: {p_value_z_twosamples}\")"
      ],
      "metadata": {
        "id": "Z13W_WvhodtB"
      },
      "execution_count": null,
      "outputs": []
    },
    {
      "cell_type": "markdown",
      "source": [
        "❗ The Z-statistic is the standardized z-score of the difference between the sample means of males and females, where the average mean difference subtracted from it is 0 (the hypothesized difference)."
      ],
      "metadata": {
        "id": "pUBWHqibpdzD"
      }
    },
    {
      "cell_type": "markdown",
      "source": [
        "❗The p-value indicates how extreme the standardized difference is in a distribution where we assume the true standardized difference in the population is 0."
      ],
      "metadata": {
        "id": "ZGI7Z_E6p9Zz"
      }
    },
    {
      "cell_type": "markdown",
      "source": [
        "####d. **Define a function to simulate multiple replications of the experiment (sample extraction + Z test) on the same population**"
      ],
      "metadata": {
        "id": "3vioUGc5lvry"
      }
    },
    {
      "cell_type": "markdown",
      "source": [
        "The function should work as follows:\n",
        "\n",
        "1. Draw a sample of males and females from the population defined at point a in this exercise.\n",
        "2. Run the Z test on these samples.\n",
        "5. Repeat the process 1000 times and plot the p-values."
      ],
      "metadata": {
        "id": "PuEa8wGdAgIT"
      }
    },
    {
      "cell_type": "code",
      "source": [
        "import numpy as np\n",
        "import matplotlib.pyplot as plt\n",
        "from statsmodels.stats.weightstats import ztest\n",
        "\n",
        "def perform_ztest_iterations(sample_size_males, sample_size_females, num_iterations=1000):\n",
        "    p_values = []  # List to store p-values from each iteration\n",
        "    for i in range(num_iterations):\n",
        "        # ToDo: Randomly sample male and female incomes; this is the same as exercise b\n",
        "        sampled_males =\n",
        "        sampled_females =\n",
        "\n",
        "        # ToDo: Perform the Z-test on the extracted samples; this is the same as exercise\n",
        "        z_statistic_twosamples, p_value_z_twosamples = ztest()\n",
        "\n",
        "        p_values.append(p_value_z_twosamples)      # This stores the p-value from this iteration in p_values\n",
        "\n",
        "    count_under_0_05 = sum(p < 0.05 for p in p_values) # This counts how many p-values are less than 0.05\n",
        "    print(f'Number of p-values under 0.05: {count_under_0_05}/{num_iterations}')\n",
        "\n",
        "    plt.figure(figsize=(8, 6))\n",
        "    plt.plot(range(1, num_iterations + 1), p_values, color='b', alpha=0.7)  # Line connecting p-values horizontally\n",
        "    plt.title(f'P-values over {num_iterations} Z-test iterations')\n",
        "    plt.xlabel('Number of Iterations')\n",
        "    plt.ylabel('P-value')\n",
        "    plt.yticks([0, 0.05, 0.1, 0.5, 1])\n",
        "    plt.grid(True)\n",
        "    plt.show()\n"
      ],
      "metadata": {
        "id": "3IJJK96ssizm"
      },
      "execution_count": null,
      "outputs": []
    },
    {
      "cell_type": "markdown",
      "source": [
        "Remember that under the hood, the Z test does the following:\n",
        "*   Draw the sampling distribution of the sample means difference, assuming that the true difference of means between the male and female population is 0. Standardize this distribution, thereby arriving at a Z distribution.\n",
        "*   Compute the mean difference between the mean of the male sample and the female sample. Standardize this difference using 0 as the average mean and the assumed-to-be-known variance.\n",
        "*   Map the standardized mean difference onto the Z distribution and get the Z score. Assess its extremity by looking at the probability of obtaining a Z score equal to or greater than that. This is the p-value.\n",
        "\n",
        "Execute the code below to see the p-value of 1.000 such iterations.\n",
        "\n",
        "\n"
      ],
      "metadata": {
        "id": "xJQM31DVtLVt"
      }
    },
    {
      "cell_type": "code",
      "source": [
        "perform_ztest_iterations(sample_size_males=80, sample_size_females=120, num_iterations=1000)"
      ],
      "metadata": {
        "id": "XOKOpxhhs0Hr"
      },
      "execution_count": null,
      "outputs": []
    },
    {
      "cell_type": "markdown",
      "source": [
        "If, based on our domain knowledge, we set 0.05 as a threshold for extreme results, most iterations suggest rejecting the hypothesis that the difference is 0. However, there are cases where the test indicates no difference between the means. This highlights the risk of concluding no difference between male and female populations, even though we know one exists (given our simulation).\n",
        "\n",
        "This \"repeated sampling\" scenario led to the development of \"hypothesis testing,\" where we predefine the acceptable probability of drawing a wrong conclusion.\n",
        "\n",
        "In significance testing, imagining repeated experiments under the same conditions is unrealistic, as experimental conditions often vary. Therefore, setting an acceptable error level before conducting the test is flawed."
      ],
      "metadata": {
        "id": "krGm_cPCp11W"
      }
    },
    {
      "cell_type": "markdown",
      "source": [
        "##Paired Z-test"
      ],
      "metadata": {
        "id": "Zj8Wpl4jqXhp"
      }
    },
    {
      "cell_type": "markdown",
      "source": [
        "The paired Z-test combines the logic of the one-sample and two-sample Z-tests.\n",
        "\n",
        "Like the Z-test, it is used to compare two groups, but the key difference is that the same individuals or elements are present in both groups.\n",
        "\n",
        "In terms of computation, it is similar to the one-sample Z-test, but applied to the differences between paired values rather than the raw data."
      ],
      "metadata": {
        "id": "IBv5jS5DCszc"
      }
    },
    {
      "cell_type": "markdown",
      "source": [
        "💡 If the one-sample Z-test answers questions like \"Is the mean height in the population different from 171?\", and the two-sample Z-test answers questions like \"Is the difference in heights between the sub-population of boys and the sub-population of girls different from 0?\", the paired Z-test answers questions like \"Is the difference in heights between the same population at Time1 and Time2 different from 0\"?"
      ],
      "metadata": {
        "id": "zkY0d8U9FJMG"
      }
    },
    {
      "cell_type": "markdown",
      "source": [
        "Formally, the paired Z test is based on:\n",
        "\n",
        "\n",
        "\\begin{align}\n",
        "Z &= \\frac{\\bar{Xd}-\\mu_0d}{\\frac{\\sigma d}{\\sqrt{n}}}\n",
        "\\end{align}\n",
        "\n",
        "where:\n",
        "- $Z$ is the standardized position/value of the obtained sample mean difference within the distribution of sample means difference (where the distribution of the sample means is modeled as a Z distribution)\n",
        "- $\\bar{Xd}$ is the sample mean difference obtained from the extracted samples,\n",
        "- $\\mu_0d$ is the hypothesized population mean difference (also known as the null hypothesis mean)\n",
        "- $\\frac{\\sigma d}{\\sqrt{n}}$ is the standard deviation of the distribution of sample mean differences approximated by the normal distribution"
      ],
      "metadata": {
        "id": "qRjm9B7wHdTN"
      }
    },
    {
      "cell_type": "markdown",
      "source": [
        "###Exercise 6: Is the mean of kills in a game differences before and after the bootcamp different from 0 in the population of gameplayers? (*Do people obtain more kills after training than before?*)"
      ],
      "metadata": {
        "id": "gCFQH59zq8Ah"
      }
    },
    {
      "cell_type": "markdown",
      "source": [
        "####a. In the following code snippet, **simulate a population of 2000 gameplayers with their kills score in a game before and after a training**."
      ],
      "metadata": {
        "id": "5yAnR935LtFQ"
      }
    },
    {
      "cell_type": "code",
      "source": [
        "import numpy as np\n",
        "import pandas as pd\n",
        "import matplotlib.pyplot as plt\n",
        "\n",
        "population_size = # Number of gameplayers in the population\n",
        "mean_kills_before = 4\n",
        "mean_kills_after = 9\n",
        "\n",
        "before_score = np.random.poisson(mean_kills_before, population_size)\n",
        "after_score = np.random.poisson(mean_kills_after, population_size)\n",
        "\n",
        "\n",
        "data_simulated = pd.DataFrame({\n",
        "    'Before_Kills': before_score,\n",
        "    'After_Kills': after_score\n",
        "})\n",
        "\n",
        "\n",
        "data_simulated.head()"
      ],
      "metadata": {
        "id": "TrFjh4BtLtnO"
      },
      "execution_count": null,
      "outputs": []
    },
    {
      "cell_type": "markdown",
      "source": [
        "####b. **Extract a sample of 30 gameplayers**"
      ],
      "metadata": {
        "id": "ScLwfTU_SJaK"
      }
    },
    {
      "cell_type": "code",
      "source": [
        "# ToDo: extract a random sample of size 30 from the population (data_simulated)\n",
        "data_extracted = data_simulated.sample(n=#sampleSize, random_state=50)\n",
        "\n",
        "\n",
        "\n",
        "plt.figure(figsize=(12, 6))\n",
        "plt.subplot(1, 2, 1)\n",
        "plt.boxplot(data_extracted['Before_Kills'], vert=True)\n",
        "plt.title('Boxplot of Before_Kills')\n",
        "plt.ylabel('Kills Before')\n",
        "plt.xticks([])\n",
        "plt.subplot(1, 2, 2)\n",
        "plt.boxplot(data_extracted['After_Kills'], vert=True)\n",
        "plt.title('Boxplot of After_Kills')\n",
        "plt.ylabel('Kills After')\n",
        "plt.xticks([])\n",
        "min_val = min(data_extracted['Before_Kills'].min(), data_extracted['After_Kills'].min())\n",
        "max_val = max(data_extracted['Before_Kills'].max(), data_extracted['After_Kills'].max())\n",
        "plt.subplot(1, 2, 1)\n",
        "plt.ylim(min_val - 1, max_val + 1)  # Add padding for clarity\n",
        "plt.subplot(1, 2, 2)\n",
        "plt.ylim(min_val - 1, max_val + 1)  # Add padding for clarity\n",
        "plt.tight_layout()\n",
        "plt.show()\n"
      ],
      "metadata": {
        "id": "RcsOr-ZSSj5K"
      },
      "execution_count": null,
      "outputs": []
    },
    {
      "cell_type": "markdown",
      "source": [
        "💡 The boxplot is another way of representing the data. The red line represents the median of the data (not the mean)"
      ],
      "metadata": {
        "id": "wGR9Lx6VUUIH"
      }
    },
    {
      "cell_type": "markdown",
      "source": [
        "####b. **Conduct the paired Z-test**"
      ],
      "metadata": {
        "id": "nptZ3HxSPZl9"
      }
    },
    {
      "cell_type": "markdown",
      "source": [
        "First, create a new variable representing the difference of scores"
      ],
      "metadata": {
        "id": "F9so8BRLPwz1"
      }
    },
    {
      "cell_type": "code",
      "source": [
        "#ToDo: Add a new column to the data_simulated called \"Kills_Difference\" as the difference between Kills Before and After\n",
        "data_extracted['Kills_Difference'] =\n",
        "data_extracted.head()\n"
      ],
      "metadata": {
        "id": "KtAgPyUnQFB-"
      },
      "execution_count": null,
      "outputs": []
    },
    {
      "cell_type": "markdown",
      "source": [
        "Use the ztest function of the score difference"
      ],
      "metadata": {
        "id": "hP5ln_LyQb9N"
      }
    },
    {
      "cell_type": "code",
      "source": [
        "hypothesized_mean_difference = 0 # Hypothesized mean of kill differences in the population\n",
        "\n",
        "#ToDo: Perform the one-sample Z test on the differences\"\n",
        "z_statistic_onesample, p_value_z_onesample = ztest(#sampleOFdIFFERENCE, value=#hypothesizedMeanOFdIFFERENCES)\n",
        "\n",
        "print(f\"Z Statistic: {z_statistic_onesample}\")\n",
        "print(f\"P-value: {p_value_z_onesample}\")"
      ],
      "metadata": {
        "colab": {
          "base_uri": "https://localhost:8080/"
        },
        "id": "QPx46ojlPbs-",
        "outputId": "db9e4b2c-5eec-4ae1-9b7b-1b4655069f25"
      },
      "execution_count": null,
      "outputs": [
        {
          "output_type": "stream",
          "name": "stdout",
          "text": [
            "Z Statistic: 9.486789023249278\n",
            "P-value: 2.3826043396281347e-21\n"
          ]
        }
      ]
    },
    {
      "cell_type": "markdown",
      "source": [
        "####c. **What does the p-value suggests?**"
      ],
      "metadata": {
        "id": "SRMJaJfKQxQz"
      }
    },
    {
      "cell_type": "markdown",
      "source": [
        "How would you interpret the p-value? Does it indicate a highly unlikely mean difference obtained from the sample, assuming that the true mean difference is 0? Would you conclude that there is a significant difference between the before and after?"
      ],
      "metadata": {
        "id": "IvY3l2RXRDTv"
      }
    },
    {
      "cell_type": "markdown",
      "source": [
        "## 📓Note: Parametric and non-parametric tests"
      ],
      "metadata": {
        "id": "b8R05ojdSTu-"
      }
    },
    {
      "cell_type": "markdown",
      "source": [
        "\n",
        "\n",
        "As mentioned in the introduction to this laboratory, there are approximately 100 statistical tests designed for various scenarios. The variants of the Z-test are called **tests of location** (or **tests of means**). There are also tests for variance, independence, distribution, and more. Fortunately, they all operate on the same principle, which can be outlined in the following steps:\n",
        "\n",
        "1. **State the (Null) Hypothesis**  \n",
        "   Formulate a hypothesis about the parameter in the population. In case of hypothesis about groups (sub-populations) this is often stated as a 0 difference between the parameters of the two sub-populations.\n",
        "\n",
        "2. **Extract a Sample and Compute the Statistic**  \n",
        "   Draw a sample from the population and compute a sample statistic (e.g., mean, variance) that is used to estimate the parameter in the population. If the population parameter is a mean, then the sample statistic is the sample mean.\n",
        "\n",
        "3. **Generate the Sampling Distribution**  \n",
        "   Create the distribution of possible sample statistics (e.g., means, variances) under the assumption that the null hypothesis is true.\n",
        "\n",
        "4. **Evaluate the Extremenes of the Statistic (p-value)**  \n",
        "   Compare the actual sample statistic to the sampling distribution and evaluate how extreme it is. This step provides evidence about the stated hypothesis."
      ],
      "metadata": {
        "id": "CUvxH8M6VtM5"
      }
    },
    {
      "cell_type": "markdown",
      "source": [
        "The Z-test and other tests (such as the t-test) are called **parametric tests** because they use parameters of the population distribution (or estimates of them) to generate the distribution of possible sample statistics. Moreover, some tests (like the t-test) make assumptions about the population distribution itself (for instance, the t-test assumes the population follows a normal distribution).\n",
        "\n",
        "There are also **non-parametric tests**. These tests work in a similar manner but do not rely on population parameters (hence, \"non-parametric\") and make minimal or no assumptions about the population from which the data were extracted (e.g., the Wilcoxon signed-rank test)."
      ],
      "metadata": {
        "id": "hqTfwr6w6nOp"
      }
    },
    {
      "cell_type": "markdown",
      "source": [
        "##Kologomorov-Smirnov test"
      ],
      "metadata": {
        "id": "nh9TMowTqgW1"
      }
    },
    {
      "cell_type": "markdown",
      "source": [
        "\n",
        "Kolmogorov-Smirnov is a non-parametric test of distribution. It helps answer the questions like \"Is the variable normally distributed in the population?\". It works in a similar manner to the Z test but differes in the use of parameters:\n",
        "\n",
        "1. **State the (Null) Hypothesis**  \n",
        "   This time, the hypothesis is about the similarity of a population distribution to a given reference distribution. This is the one-sample variant. A two-sample variant is also available, which refers to the similarity between two population distributions. Here we will only focus on the one-sample variant.  \n",
        "\n",
        "2. **Extract a Sample and Compute the Statistic**  \n",
        "   Draw a sample from the population and compute its empirical distribution. Then compute the distance between this distribution and the reference distribution. The distance between the empirical distribution and the reference distribution is the sample statistic.\n",
        "\n",
        "3. **Generate the Sampling Distribution**  \n",
        "   The sampling distribution is that of possible distances between two distributions. This distribution is predictable, and its CDF has also been tabulated, similar to the Z-table in previous exercises. This distribution is a distribution of possible distances, assuming that the two distributions are similar.\n",
        "\n",
        "4. **Evaluate the Extremenes of the Statistic (p-value)**  \n",
        "   Evaluate the extremeness of the distance between the sample distribution and the reference distribution using the sampling distribution of possible distances."
      ],
      "metadata": {
        "id": "8MG-YaT_28Vn"
      }
    },
    {
      "cell_type": "markdown",
      "source": [
        "The distance between the two distributions is computed as the largest absolute difference between the two distribution functions across all values. Formally:\n",
        "\n",
        "\n",
        "\\begin{align}\n",
        "D_{n} = \\sup_{x} \\left| F_{n}(x) - F(x) \\right|\n",
        "\\end{align}\n",
        "\n",
        "where:\n",
        "*   $D_{n}$ is the test statistic\n",
        "*   $sup_{x}$ is the supremum (the largest element)\n",
        "*   $F_{n}(x)$ is the reference cumulative distribution which, in the two-sample variant can be another empirical distribution; in the one-sample variant it is a theoretical distribution\n",
        "*   $F(x)$ is the empirical cumulative distribution\n",
        "\n",
        "\n"
      ],
      "metadata": {
        "id": "vkssU_SqT5_u"
      }
    },
    {
      "cell_type": "markdown",
      "source": [
        "###Exercise 7: Is the variable normally distributed in the population?  "
      ],
      "metadata": {
        "id": "qXIgdUTsq0M7"
      }
    },
    {
      "cell_type": "markdown",
      "source": [
        "####a. Extract a random **sample of 800 height measurements from the population simulated in Exercise 1, part a.**"
      ],
      "metadata": {
        "id": "SySjQs0LUvK3"
      }
    },
    {
      "cell_type": "code",
      "source": [
        "# ToDo: define sample size and extract a random sample of 30 individuals from the population defined in Exercise 1 part a\n",
        "sample_size_ks = #sample size\n",
        "sample_heights = np.random.choice(#populationExercise1, size=#sampleSize, replace=False)\n",
        "\n",
        "plt.figure(figsize=(10, 6))\n",
        "plt.hist(sample_heights, bins=50, color='lightgreen', edgecolor='black')\n",
        "plt.title('Histogram of heights in one extracted sample (n=800)')\n",
        "plt.xlabel('Height (cm)')\n",
        "plt.ylabel('Frequency')\n",
        "plt.show()"
      ],
      "metadata": {
        "id": "7pihLa3Jn0IP"
      },
      "execution_count": null,
      "outputs": []
    },
    {
      "cell_type": "markdown",
      "source": [
        "####b. **Conduct the KS test to determine if the variable \"height\" is normally distributed in the population**."
      ],
      "metadata": {
        "id": "7np8i8yUUxZB"
      }
    },
    {
      "cell_type": "markdown",
      "source": [
        "The KS test of normality implemented in scipy.stats works requires first standardizing the empirical distribution and then comparing its CDF with the theoretical CDF of a standard normal variable."
      ],
      "metadata": {
        "id": "lCoj5J1jqogi"
      }
    },
    {
      "cell_type": "code",
      "source": [
        "from scipy.stats import kstest\n",
        "\n",
        "# ToDo: Standardize the values in the sample\n",
        "sample_heights_standardized =\n",
        "\n",
        "# ToDo: fill in the appropiate parameters for the ks function: the empirical distribution, the reference distribution, and the required information for standardization\n",
        "ks_stat_norm, p_value_norm = kstest(#StandardizedDistribution, #referenceDistribution writtes as 'norm')\n",
        "\n",
        "print(f\"KS Statistic: {ks_stat_norm}, P-value: {p_value_norm}\")"
      ],
      "metadata": {
        "colab": {
          "base_uri": "https://localhost:8080/"
        },
        "id": "mTvv_FtNoMGU",
        "outputId": "834b4382-0160-4757-8740-39287459e8f4"
      },
      "execution_count": null,
      "outputs": [
        {
          "output_type": "stream",
          "name": "stdout",
          "text": [
            "KS Statistic: 0.027998625206997363, P-value: 0.547832665363653\n"
          ]
        }
      ]
    },
    {
      "cell_type": "markdown",
      "source": [
        "Under the hood, the test draws the CDF of the standardized sample distribution (which would be the blue line in the graph below) and the theoretical CDF of a standard normal variable (which would be the red line in the graph below). It then calculates the supremum distance and maps this distance onto the distribution of possible distances assuming the distributions are equal, resulting in the KS statistic. Finally, the extremeness of this statistic is evaluated, and a p-value is produced."
      ],
      "metadata": {
        "id": "Rg3eXc3zr5WE"
      }
    },
    {
      "cell_type": "markdown",
      "source": [
        "![KS_Example.png](data:image/png;base64,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)"
      ],
      "metadata": {
        "id": "uGMi4hMNr2RQ"
      }
    },
    {
      "cell_type": "markdown",
      "source": [
        "####c. **Interpret the p-value**."
      ],
      "metadata": {
        "id": "-p5WmrLtUzBG"
      }
    },
    {
      "cell_type": "markdown",
      "source": [
        "What would the p-valuea mean? Would you answer yes or no to the question \"Is height normally distributed in the population\" (assuming you don't know the distribution in the population).?"
      ],
      "metadata": {
        "id": "PmKsFdA2u0Ot"
      }
    }
  ],
  "metadata": {
    "colab": {
      "provenance": [],
      "collapsed_sections": [
        "5SF9PpNIY8DC",
        "w47PTDzTBYP_",
        "S18PBGDGUMw8",
        "2xhi1UzQtfs4",
        "SytcK86UuOBQ",
        "Eq1mWW-wxWOt",
        "qqvdQrgdp-5x",
        "-1uhd3vKkaEw",
        "MUY6uAn3mWVK",
        "H6WdM7jMm4aM",
        "x-NezWhcm9zf",
        "gLdCl63Mrzh8",
        "sZNeJ5qKWBXP",
        "IzXThMRS3RlO",
        "XFId-k_t5dkE",
        "jdtTEbp2h65V",
        "PJTLJyUW-axM",
        "BRFJUfbHqtL0",
        "xuBu0TW4qLem",
        "8L3rA0WhhwOT",
        "5c9VRYVEiOeW",
        "VV4iOHB1ll5_",
        "f04fRhfMlqO5",
        "3vioUGc5lvry",
        "Zj8Wpl4jqXhp",
        "gCFQH59zq8Ah",
        "5yAnR935LtFQ",
        "ScLwfTU_SJaK",
        "nptZ3HxSPZl9",
        "SRMJaJfKQxQz",
        "b8R05ojdSTu-",
        "nh9TMowTqgW1",
        "qXIgdUTsq0M7",
        "SySjQs0LUvK3",
        "7np8i8yUUxZB",
        "-p5WmrLtUzBG"
      ]
    },
    "kernelspec": {
      "display_name": "Python 3",
      "name": "python3"
    },
    "language_info": {
      "name": "python"
    }
  },
  "nbformat": 4,
  "nbformat_minor": 0
}